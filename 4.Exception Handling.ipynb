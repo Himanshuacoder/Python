{
 "cells": [
  {
   "cell_type": "markdown",
   "metadata": {},
   "source": [
    "Write a program to insert integer into a list and if  user has entered lesser then 4 then raise your own exception with custom msg and if user is not entering an integer then keep asking user to enter integer all the time, you are supposed to enter 10 such integers with this condition."
   ]
  },
  {
   "cell_type": "code",
   "execution_count": 3,
   "metadata": {},
   "outputs": [],
   "source": [
    "def test1() :\n",
    "    lst = []\n",
    "    for i in range(10) :\n",
    "        while True :\n",
    "            try :\n",
    "                num = int(input(\"Enter an integer\"))\n",
    "            except :\n",
    "                print(\"donot enter string\")\n",
    "                continue\n",
    "            else :\n",
    "                try :\n",
    "                    if num < 4 :\n",
    "                        raise Exception(num)\n",
    "                    else :\n",
    "                        lst.append(num)\n",
    "                        break\n",
    "                except Exception as e:\n",
    "                    print(e)\n",
    "    print(lst)"
   ]
  },
  {
   "cell_type": "code",
   "execution_count": 4,
   "metadata": {},
   "outputs": [
    {
     "name": "stdout",
     "output_type": "stream",
     "text": [
      "Enter an integer1\n",
      "1\n",
      "Enter an integer2\n",
      "2\n",
      "Enter an integer3\n",
      "3\n",
      "Enter an integer4\n",
      "Enter an integer5\n",
      "Enter an integer6\n",
      "Enter an integer7\n",
      "Enter an integer8\n",
      "Enter an integer9\n",
      "Enter an integer0\n",
      "0\n",
      "Enter an integer0\n",
      "0\n",
      "Enter an integer9\n",
      "Enter an integer8\n",
      "Enter an integer7\n",
      "Enter an integer6\n",
      "[4, 5, 6, 7, 8, 9, 9, 8, 7, 6]\n"
     ]
    }
   ],
   "source": [
    "test1()"
   ]
  }
 ],
 "metadata": {
  "kernelspec": {
   "display_name": "Python 3",
   "language": "python",
   "name": "python3"
  },
  "language_info": {
   "codemirror_mode": {
    "name": "ipython",
    "version": 3
   },
   "file_extension": ".py",
   "mimetype": "text/x-python",
   "name": "python",
   "nbconvert_exporter": "python",
   "pygments_lexer": "ipython3",
   "version": "3.8.3"
  }
 },
 "nbformat": 4,
 "nbformat_minor": 4
}
