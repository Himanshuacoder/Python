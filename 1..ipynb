{
 "cells": [
  {
   "cell_type": "code",
   "execution_count": 1,
   "metadata": {},
   "outputs": [
    {
     "data": {
      "text/plain": [
       "'sudhkumar'"
      ]
     },
     "execution_count": 1,
     "metadata": {},
     "output_type": "execute_result"
    }
   ],
   "source": [
    "def test12(a):\n",
    "    con = \"\"\n",
    "    con = con + a\n",
    "    return con\n",
    "def test15(**kwargs):\n",
    "    a = \"\"\n",
    "    for i in kwargs.values():\n",
    "        if type(i) == list:\n",
    "            for j in i:\n",
    "                if type(j) == str:\n",
    "                    a = a + test12(j)\n",
    "    return a\n",
    "test15(a = 34,b = 56,c = 67,sudh = [3,4,5,6,\"sudh\",\"kumar\"])"
   ]
  },
  {
   "cell_type": "code",
   "execution_count": 2,
   "metadata": {},
   "outputs": [
    {
     "data": {
      "text/plain": [
       "'sudhkumar'"
      ]
     },
     "execution_count": 2,
     "metadata": {},
     "output_type": "execute_result"
    }
   ],
   "source": [
    "def test12(*args):\n",
    "    con = \"\"\n",
    "    for i in args:\n",
    "        con = con + i\n",
    "    return con\n",
    "def test15(**kwargs ):\n",
    "    a = \"\"\n",
    "    for i in kwargs.values() :\n",
    "        if type(i) == list :\n",
    "            for j in i :\n",
    "                if type(j) == str:\n",
    "                    a = a +test12(j)\n",
    "    return a\n",
    "test15(a = 34,b = 56,c = 67,sudh = [3,4,5,6,\"sudh\",\"kumar\"])"
   ]
  },
  {
   "cell_type": "code",
   "execution_count": 3,
   "metadata": {},
   "outputs": [
    {
     "data": {
      "text/plain": [
       "'sudhkumar'"
      ]
     },
     "execution_count": 3,
     "metadata": {},
     "output_type": "execute_result"
    }
   ],
   "source": [
    "def test15(**kwargs):\n",
    "    con = \"\"\n",
    "    for i in kwargs.values():\n",
    "        if type(i) == list:\n",
    "            for j in i:\n",
    "                if type(j) == str:\n",
    "                    con = con + j\n",
    "    return con\n",
    "test15(a = 34,b = 56,c = 67,sudh = [3,4,5,6,\"sudh\",\"kumar\"])"
   ]
  },
  {
   "cell_type": "code",
   "execution_count": null,
   "metadata": {},
   "outputs": [],
   "source": []
  }
 ],
 "metadata": {
  "kernelspec": {
   "display_name": "Python 3",
   "language": "python",
   "name": "python3"
  },
  "language_info": {
   "codemirror_mode": {
    "name": "ipython",
    "version": 3
   },
   "file_extension": ".py",
   "mimetype": "text/x-python",
   "name": "python",
   "nbconvert_exporter": "python",
   "pygments_lexer": "ipython3",
   "version": "3.8.3"
  }
 },
 "nbformat": 4,
 "nbformat_minor": 4
}
