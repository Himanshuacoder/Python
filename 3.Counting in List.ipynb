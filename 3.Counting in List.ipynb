{
 "cells": [
  {
   "cell_type": "markdown",
   "metadata": {},
   "source": [
    "# Counting the occurence of each unique number in lists inside a list"
   ]
  },
  {
   "cell_type": "markdown",
   "metadata": {},
   "source": [
    "# printing if the occurence is more than 1."
   ]
  },
  {
   "cell_type": "code",
   "execution_count": 75,
   "metadata": {},
   "outputs": [
    {
     "name": "stdout",
     "output_type": "stream",
     "text": [
      "[1, 1, 2, 2, 3, 3]\n",
      "index - 0 1 = 2\n",
      "index - 2 2 = 2\n",
      "index - 4 3 = 2\n",
      "[2, 4, 2, 2, 5]\n",
      "index - 0 2 = 3\n",
      "[1, 5, 8, 8, 2, 8, 1, 2, 3, 4, 8]\n",
      "index - 0 1 = 2\n",
      "index - 2 8 = 4\n",
      "index - 4 2 = 2\n"
     ]
    }
   ],
   "source": [
    "lst = [[1,1,2,2,3,3],[2,4,2,2,5],[1,5,8,8,2,8,1,2,3,4,8]]\n",
    "a = []\n",
    "count = 0\n",
    "for i in lst :\n",
    "    print(i)\n",
    "    for j in range(len(i)):\n",
    "        for k in range(j,len(i)):\n",
    "            if i[j] == i[k] and i[j] not in a:\n",
    "                count = count + 1\n",
    "        if count > 1:\n",
    "            print(\"index -\",j,i[j],\"=\",count)\n",
    "            a.append(i[j])\n",
    "        count = 0\n",
    "    a = []       "
   ]
  },
  {
   "cell_type": "code",
   "execution_count": 78,
   "metadata": {},
   "outputs": [
    {
     "name": "stdout",
     "output_type": "stream",
     "text": [
      "[1, 1, 2, 2, 3, 3]\n",
      "the count of 1 is 2\n",
      "the count of 2 is 2\n",
      "the count of 3 is 2\n",
      "[2, 4, 2, 2, 5]\n",
      "the count of 2 is 3\n",
      "[1, 5, 8, 8, 2, 8, 1, 2, 3, 4, 8]\n",
      "the count of 1 is 2\n",
      "the count of 8 is 4\n",
      "the count of 2 is 2\n"
     ]
    }
   ],
   "source": [
    "l=[[1,1,2,2,3,3],[2,4,2,2,5],[1,5,8,8,2,8,1,2,3,4,8]]\n",
    "a=[]\n",
    "for i in l:\n",
    "    print(i)\n",
    "    for j in i:\n",
    "        if j not in a and i.count(j)>1:\n",
    "            a.append(j)\n",
    "            print(\"the count of\",j,\"is\",i.count(j))\n",
    "    a = []\n"
   ]
  }
 ],
 "metadata": {
  "kernelspec": {
   "display_name": "Python 3",
   "language": "python",
   "name": "python3"
  },
  "language_info": {
   "codemirror_mode": {
    "name": "ipython",
    "version": 3
   },
   "file_extension": ".py",
   "mimetype": "text/x-python",
   "name": "python",
   "nbconvert_exporter": "python",
   "pygments_lexer": "ipython3",
   "version": "3.8.3"
  }
 },
 "nbformat": 4,
 "nbformat_minor": 4
}
