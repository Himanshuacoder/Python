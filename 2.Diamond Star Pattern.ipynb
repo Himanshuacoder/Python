{
 "cells": [
  {
   "cell_type": "code",
   "execution_count": 4,
   "metadata": {},
   "outputs": [
    {
     "name": "stdout",
     "output_type": "stream",
     "text": [
      "Enter the length of diamond star pattern11\n",
      "     * \n",
      "\n",
      "    * * \n",
      "\n",
      "   * * * \n",
      "\n",
      "  * * * * \n",
      "\n",
      " * * * * * \n",
      "\n",
      "* * * * * * \n",
      "\n",
      " * * * * * \n",
      "\n",
      "  * * * * \n",
      "\n",
      "   * * * \n",
      "\n",
      "    * * \n",
      "\n",
      "     * \n",
      "\n"
     ]
    }
   ],
   "source": [
    "n = int(input(\"Enter the length of diamond star pattern\"))\n",
    "count = int((n-1)/2)\n",
    "if n%2 == 0:\n",
    "    print(\"Pattern cannot have even length.\")\n",
    "else:\n",
    "    \n",
    "    for i in range(int((n+1)/2)):\n",
    "        for j in range(count,0,-1):\n",
    "            print(\" \",end = \"\")\n",
    "        count = count - 1\n",
    "        for j in range(i + 1):\n",
    "            print(\"*\",end=\" \")\n",
    "        print(\"\\n\")\n",
    "    count1 = 1 \n",
    "    for i in range(int((n-1)/2),0,-1):\n",
    "        for k in range(count1):\n",
    "            print(\" \",end=\"\")\n",
    "        count1 = count1 + 1\n",
    "        for j in range(i):\n",
    "            print(\"*\",end=\" \")\n",
    "        print(\"\\n\")"
   ]
  },
  {
   "cell_type": "code",
   "execution_count": null,
   "metadata": {},
   "outputs": [],
   "source": []
  }
 ],
 "metadata": {
  "kernelspec": {
   "display_name": "Python 3",
   "language": "python",
   "name": "python3"
  },
  "language_info": {
   "codemirror_mode": {
    "name": "ipython",
    "version": 3
   },
   "file_extension": ".py",
   "mimetype": "text/x-python",
   "name": "python",
   "nbconvert_exporter": "python",
   "pygments_lexer": "ipython3",
   "version": "3.8.3"
  }
 },
 "nbformat": 4,
 "nbformat_minor": 4
}
